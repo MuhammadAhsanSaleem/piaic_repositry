{
 "cells": [
  {
   "cell_type": "markdown",
   "metadata": {},
   "source": [
    "# Question 1\n"
   ]
  },
  {
   "cell_type": "code",
   "execution_count": 18,
   "metadata": {},
   "outputs": [],
   "source": [
    "class restraunt():\n",
    "    def __init__(self, restraunt_name, cuisine_type):\n",
    "        self.restraunt_name=restraunt_name\n",
    "        self.cuisine_type=cuisine_type\n",
    "    def describe_restraunt(self):\n",
    "        print(f\"{self.restraunt_name} is a {self.cuisine_type} restraunt\")\n",
    "    def open_restraunt(self):\n",
    "        print(\"Restraunt is open, Welcome!\")\n",
    "        "
   ]
  },
  {
   "cell_type": "code",
   "execution_count": 19,
   "metadata": {},
   "outputs": [],
   "source": [
    "r123=restraunt('food break','continental and bbq')"
   ]
  },
  {
   "cell_type": "code",
   "execution_count": 20,
   "metadata": {},
   "outputs": [
    {
     "data": {
      "text/plain": [
       "'food break'"
      ]
     },
     "execution_count": 20,
     "metadata": {},
     "output_type": "execute_result"
    }
   ],
   "source": [
    "r123.restraunt_name"
   ]
  },
  {
   "cell_type": "code",
   "execution_count": 21,
   "metadata": {},
   "outputs": [
    {
     "data": {
      "text/plain": [
       "'continental and bbq'"
      ]
     },
     "execution_count": 21,
     "metadata": {},
     "output_type": "execute_result"
    }
   ],
   "source": [
    "r123.cuisine_type"
   ]
  },
  {
   "cell_type": "code",
   "execution_count": 22,
   "metadata": {},
   "outputs": [
    {
     "name": "stdout",
     "output_type": "stream",
     "text": [
      "food break is a continental and bbq restraunt\n"
     ]
    }
   ],
   "source": [
    "r123.describe_restraunt()"
   ]
  },
  {
   "cell_type": "code",
   "execution_count": 23,
   "metadata": {},
   "outputs": [
    {
     "name": "stdout",
     "output_type": "stream",
     "text": [
      "Restraunt is open, Welcome!\n"
     ]
    }
   ],
   "source": [
    "r123.open_restraunt()"
   ]
  },
  {
   "cell_type": "code",
   "execution_count": 27,
   "metadata": {},
   "outputs": [],
   "source": [
    "r120=restraunt('Ridan','Mandi based arabic food')"
   ]
  },
  {
   "cell_type": "code",
   "execution_count": 28,
   "metadata": {},
   "outputs": [],
   "source": [
    "r110=restraunt('KFC','Fastfood')"
   ]
  },
  {
   "cell_type": "markdown",
   "metadata": {},
   "source": [
    "# Question 2"
   ]
  },
  {
   "cell_type": "code",
   "execution_count": 29,
   "metadata": {},
   "outputs": [
    {
     "name": "stdout",
     "output_type": "stream",
     "text": [
      "Ridan is a Mandi based arabic food restraunt\n"
     ]
    }
   ],
   "source": [
    "r120.describe_restraunt()"
   ]
  },
  {
   "cell_type": "code",
   "execution_count": 30,
   "metadata": {},
   "outputs": [
    {
     "name": "stdout",
     "output_type": "stream",
     "text": [
      "KFC is a Fastfood restraunt\n"
     ]
    }
   ],
   "source": [
    "r110.describe_restraunt()"
   ]
  },
  {
   "cell_type": "markdown",
   "metadata": {},
   "source": [
    "# Question 3"
   ]
  },
  {
   "cell_type": "code",
   "execution_count": 26,
   "metadata": {},
   "outputs": [],
   "source": [
    "class user():\n",
    "    def __init__ (self,first_name,last_name,email,contact):\n",
    "        self.first_name=first_name\n",
    "        self.last_name=last_name\n",
    "        self.email=email\n",
    "        self.contact=contact\n",
    "    def describe_user(self):\n",
    "        print(f\" {self.first_name} {self.last_name}'s email adress is {self.email} and contact number is {self.contact} .\" )\n",
    "    def greet_user(self):\n",
    "        print(f\" Welcome {self.first_name} {self.last_name}, enjoy the day!\")\n"
   ]
  },
  {
   "cell_type": "code",
   "execution_count": 27,
   "metadata": {},
   "outputs": [],
   "source": [
    "user1=user('Muhammad','Ahsan','Mohammadahsan.salim@gmail.com',9234466542)"
   ]
  },
  {
   "cell_type": "code",
   "execution_count": 28,
   "metadata": {},
   "outputs": [],
   "source": [
    "user2=user('Rohan','khalid','idontknow@gmail.com',92345987654)"
   ]
  },
  {
   "cell_type": "code",
   "execution_count": 29,
   "metadata": {},
   "outputs": [],
   "source": [
    "user3=user('Ahmed','jamil','idontknow2@gmail.com',92344123456)"
   ]
  },
  {
   "cell_type": "code",
   "execution_count": 32,
   "metadata": {},
   "outputs": [
    {
     "name": "stdout",
     "output_type": "stream",
     "text": [
      " Welcome Muhammad Ahsan, enjoy the day!\n",
      " Muhammad Ahsan's email adress is Mohammadahsan.salim@gmail.com and contact number is 9234466542 .\n"
     ]
    }
   ],
   "source": [
    "user1.greet_user()\n",
    "user1.describe_user()"
   ]
  },
  {
   "cell_type": "code",
   "execution_count": 33,
   "metadata": {},
   "outputs": [
    {
     "name": "stdout",
     "output_type": "stream",
     "text": [
      " Welcome Rohan khalid, enjoy the day!\n",
      " Rohan khalid's email adress is idontknow@gmail.com and contact number is 92345987654 .\n"
     ]
    }
   ],
   "source": [
    "user2.greet_user()\n",
    "user2.describe_user()"
   ]
  },
  {
   "cell_type": "code",
   "execution_count": 34,
   "metadata": {},
   "outputs": [
    {
     "name": "stdout",
     "output_type": "stream",
     "text": [
      " Welcome Ahmed jamil, enjoy the day!\n",
      " Ahmed jamil's email adress is idontknow2@gmail.com and contact number is 92344123456 .\n"
     ]
    }
   ],
   "source": [
    "user3.greet_user()\n",
    "user3.describe_user()"
   ]
  },
  {
   "cell_type": "code",
   "execution_count": null,
   "metadata": {},
   "outputs": [],
   "source": []
  }
 ],
 "metadata": {
  "kernelspec": {
   "display_name": "Python 3",
   "language": "python",
   "name": "python3"
  },
  "language_info": {
   "codemirror_mode": {
    "name": "ipython",
    "version": 3
   },
   "file_extension": ".py",
   "mimetype": "text/x-python",
   "name": "python",
   "nbconvert_exporter": "python",
   "pygments_lexer": "ipython3",
   "version": "3.7.3"
  }
 },
 "nbformat": 4,
 "nbformat_minor": 2
}
