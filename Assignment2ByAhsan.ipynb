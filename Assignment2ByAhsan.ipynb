{
 "cells": [
  {
   "cell_type": "code",
   "execution_count": null,
   "metadata": {},
   "outputs": [],
   "source": [
    "Routine=[\"Breakfast\",\"Prayer\",\"Lunch\",\"Tuitions\",\"Dinner\",\"Gathering\",\"Study\"]\n",
    "emptylist=[]\n",
    "while len(Routine)>0:\n",
    "    selected_task=input(\"Task to do\").title()\n",
    "    if selected_task in Routine:\n",
    "        task_done=Routine.index(selected_task)\n",
    "        Routine.pop(task_done)\n",
    "        emptylist.append(selected_task)\n",
    "        print(f\"To do list: {Routine} \")\n",
    "        print(f\"Task performed: {emptylist} \")\n",
    "    else:\n",
    "        print(\"Out of Routine\")\n",
    "    if len(Routine)==0:\n",
    "        print(\"Routine Complete\")"
   ]
  },
  {
   "cell_type": "code",
   "execution_count": null,
   "metadata": {},
   "outputs": [],
   "source": []
  }
 ],
 "metadata": {
  "kernelspec": {
   "display_name": "Python 3",
   "language": "python",
   "name": "python3"
  },
  "language_info": {
   "codemirror_mode": {
    "name": "ipython",
    "version": 3
   },
   "file_extension": ".py",
   "mimetype": "text/x-python",
   "name": "python",
   "nbconvert_exporter": "python",
   "pygments_lexer": "ipython3",
   "version": "3.7.3"
  }
 },
 "nbformat": 4,
 "nbformat_minor": 2
}
